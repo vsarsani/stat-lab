{
 "cells": [
  {
   "cell_type": "code",
   "execution_count": 8,
   "metadata": {},
   "outputs": [],
   "source": [
    "## Required packages and example dataset\n",
    "from lifelines.datasets import load_rossi\n",
    "from lifelines.statistics import logrank_test\n",
    "from sklearn.utils import resample\n",
    "import statistics\n",
    "from lifelines import KaplanMeierFitter\n",
    "kmf = KaplanMeierFitter()\n",
    "import matplotlib.pyplot as plt\n",
    "import numpy as np\n",
    "import argparse\n",
    "from pylab import rcParams      "
   ]
  },
  {
   "cell_type": "code",
   "execution_count": 9,
   "metadata": {},
   "outputs": [],
   "source": [
    "def stratify_plot(df,variable,time,event,iterations):\n",
    "        '''\n",
    "        Given a dataframe and a desired variable, and time and event,stratify based on a log-rank test\n",
    "        '''\n",
    "        rcParams['figure.figsize'] = 10, 8\n",
    "        minp=np.int(len(df)/5)\n",
    "        for f in range(0,iterations):\n",
    "            boot = resample(df, replace=True, n_samples=len(df))\n",
    "            T = boot[time]\n",
    "            E = boot[event]\n",
    "            start = boot[variable].min()\n",
    "            stop = boot[variable].max()\n",
    "            step = np.abs((start-stop))/100\n",
    "            cutoff_list = np.arange(start, stop, step)\n",
    "            p_list = []\n",
    "            num_list = []\n",
    "            teststast_list = []\n",
    "            resdic={}\n",
    "            minvalue=[]\n",
    "            i = 0\n",
    "            for Cutoff in cutoff_list:\n",
    "                low = (boot[variable] < Cutoff )\n",
    "                high=(boot[variable] >= Cutoff )\n",
    "                if len(low) >=minp and len(high)>=minp:\n",
    "                    results = logrank_test(T[low], T[~low], E[low], E[~low], alpha=.99)\n",
    "                    p_list.append(results.p_value)\n",
    "                    num_list.append(T[low].size/low.size)\n",
    "                    teststast_list.append(results.test_statistic)\n",
    "                    if results.p_value==results.p_value:\n",
    "                        resdic[Cutoff]=results.p_value\n",
    "            minvalue.append(min(resdic, key=resdic.get))\n",
    "        T=df[time]\n",
    "        E=df[event]\n",
    "        bestvalue=statistics.mean(minvalue)\n",
    "        low = df[variable] < bestvalue\n",
    "        results = logrank_test(T[low], T[~low], E[low], E[~low], alpha=.99)\n",
    "        ax1 = plt.subplot(111,alpha=0.4)\n",
    "        kmf.fit(T[low], event_observed=E[low], label=\"low {} \".format(variable))\n",
    "        kmf.plot(ax=ax1,show_censors=True, censor_styles={'ms': 6, 'marker': 's'})\n",
    "        kmf.fit(T[~low], event_observed=E[~low], label=\"high {}\".format(variable))\n",
    "        kmf.plot(ax=ax1,show_censors=True, censor_styles={'ms': 6, 'marker': 's'})\n",
    "        lvalue=-np.log2(results.p_value)\n",
    "        ax1.title.set_text(\"p<{}  | -log2(p)={}  | Cuttoff={}\".format(round(results.p_value,5),lvalue,round(bestvalue,3)))\n",
    "        plt.savefig('myimage.svg', format='svg', dpi=1200)\n",
    "        "
   ]
  },
  {
   "cell_type": "code",
   "execution_count": 7,
   "metadata": {},
   "outputs": [
    {
     "data": {
      "image/png": "[encoded data removed]",
      "text/plain": [
       "<Figure size 720x576 with 1 Axes>"
      ]
     },
     "metadata": {
      "needs_background": "light"
     },
     "output_type": "display_data"
    }
   ],
   "source": [
    "\n",
    "## Do stratification for the example data set.\n",
    "#variable of stratification : age, time : week, event: arrest, 10 bootstrap iterations\n",
    "rossi = load_rossi()\n",
    "stratify_plot(rossi,\"age\",\"week\",\"arrest\",10)"
   ]
  },
  {
   "cell_type": "code",
   "execution_count": null,
   "metadata": {},
   "outputs": [],
   "source": []
  }
 ],
 "metadata": {
  "kernelspec": {
   "display_name": "Python 3",
   "language": "python",
   "name": "python3"
  },
  "language_info": {
   "codemirror_mode": {
    "name": "ipython",
    "version": 3
   },
   "file_extension": ".py",
   "mimetype": "text/x-python",
   "name": "python",
   "nbconvert_exporter": "python",
   "pygments_lexer": "ipython3",
   "version": "3.7.3"
  }
 },
 "nbformat": 4,
 "nbformat_minor": 2
}
